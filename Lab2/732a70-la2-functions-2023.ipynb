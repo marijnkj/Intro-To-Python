{
 "cells": [
  {
   "cell_type": "markdown",
   "metadata": {},
   "source": [
    "# Laboration 2"
   ]
  },
  {
   "cell_type": "markdown",
   "metadata": {},
   "source": [
    "---\n",
    "**Student:** abcdef123\n",
    "\n",
    "**Student:** sidsr770 (Siddhesh Sreedar)\n",
    "\n",
    "---"
   ]
  },
  {
   "cell_type": "markdown",
   "metadata": {},
   "source": [
    "# Introduction \n",
    "In this first part of the lab, we will be exploring \n",
    "* Functions\n",
    "    * How functions are called.\n",
    "    * Argument passing\n",
    "    * Return values.\n",
    "* Function usage\n",
    "    * Construction of simple multi-function programs.\n",
    "    * Functions that work on several kinds of inputs (ie simple polymorphism via duck typing).\n",
    "\n",
    "Additionally we will touch upon\n",
    "* Exceptions and \n",
    "* simple assertion testing and debugging."
   ]
  },
  {
   "cell_type": "markdown",
   "metadata": {},
   "source": [
    "This lab might require you to search for information on your own to a larger extent than in lab 1. As in the last lab, Lutz' Learning Python and the [official documentation](https://docs.python.org) might be helpful. Also make sure to make use of the available lab assistance!"
   ]
  },
  {
   "cell_type": "markdown",
   "metadata": {},
   "source": [
    "# A note on rules"
   ]
  },
  {
   "cell_type": "markdown",
   "metadata": {},
   "source": [
    "Please make sure to conform to the (previously mentioned) [IDA lab rules](https://www.ida.liu.se/~732A74/labs/index.en.shtml)."
   ]
  },
  {
   "cell_type": "markdown",
   "metadata": {},
   "source": [
    "## Functions in Python"
   ]
  },
  {
   "cell_type": "markdown",
   "metadata": {},
   "source": [
    "a) Write a function that takes a radius and returns area of a circle with that radius. What would be a good name for the function and the argument? Python has a value for $\\pi$ in a certain standard library module. Which might that be? Don't type in the constant yourself."
   ]
  },
  {
   "cell_type": "code",
   "execution_count": 3,
   "metadata": {},
   "outputs": [
    {
     "name": "stdout",
     "output_type": "stream",
     "text": [
      "12.566370614359172\n"
     ]
    }
   ],
   "source": [
    "import math \n",
    "\n",
    "def area_circle(r):\n",
    "  print(math.pi*r**r)\n"
   ]
  },
  {
   "cell_type": "markdown",
   "metadata": {},
   "source": [
    "[Hint: Google. Or consider modules we have `import`ed previously.]"
   ]
  },
  {
   "cell_type": "markdown",
   "metadata": {},
   "source": [
    "b) How would you call the function, if you wanted to calculate the area of a circle with radius 10cm?"
   ]
  },
  {
   "cell_type": "code",
   "execution_count": 4,
   "metadata": {},
   "outputs": [
    {
     "name": "stdout",
     "output_type": "stream",
     "text": [
      "31415926535.89793\n"
     ]
    }
   ],
   "source": [
    "area_circle(10)"
   ]
  },
  {
   "cell_type": "markdown",
   "metadata": {},
   "source": [
    "c) How would you call the function using named arguments/keyword arguments?"
   ]
  },
  {
   "cell_type": "code",
   "execution_count": 5,
   "metadata": {},
   "outputs": [
    {
     "name": "stdout",
     "output_type": "stream",
     "text": [
      "31415926535.89793\n"
     ]
    }
   ],
   "source": [
    "area_circle(r = 10)"
   ]
  },
  {
   "cell_type": "markdown",
   "metadata": {},
   "source": [
    "[Note: In this case, the calling of the function is somewhat artificial. When writing scripts or working with programs that take several parameters, this style can be quite useful. This sidesteps questions of if this particular library takes the input or the output as the first argument, or the like. The code of course becomes more verbose.]"
   ]
  },
  {
   "cell_type": "markdown",
   "metadata": {},
   "source": [
    "d) Write a function `circle_area_safe(radius)` which uses an if statement to check that the radius is positive and prints `The radius must be positive` to the screen if it is not, and otherwise calls the `circle_area` function. Also, if the radius is not positive the `circle_area_safe` function should signal to the code calling it that it has failed by returning `None`."
   ]
  },
  {
   "cell_type": "code",
   "execution_count": 8,
   "metadata": {},
   "outputs": [
    {
     "name": "stdout",
     "output_type": "stream",
     "text": [
      "The radius must be positive\n"
     ]
    }
   ],
   "source": [
    "def circle_area_safe(radius):\n",
    "  if radius <0:\n",
    "    print(\"The radius must be positive\")\n",
    "    return None\n",
    "  else:\n",
    "    return (area_circle(radius))\n",
    "\n",
    "\n",
    "circle_area_safe(-1)"
   ]
  },
  {
   "cell_type": "markdown",
   "metadata": {},
   "source": [
    "e) Recreate the `circle_area_safe` function (call this version `circle_area_safer`) but instead of printing a message to the screen and returning `None` if the radius is negative, _raise_ a ValueError exception with suitable error message as argument."
   ]
  },
  {
   "cell_type": "code",
   "execution_count": 14,
   "metadata": {},
   "outputs": [],
   "source": [
    "def circle_area_safer(radius):\n",
    "  if radius <0:\n",
    "    raise ValueError(\"Error!! the radius cannot be negative\")\n",
    "    return None\n",
    "  else:\n",
    "    return (area_circle(radius))\n",
    "  \n",
    "#circle_area_safer(-1)"
   ]
  },
  {
   "cell_type": "markdown",
   "metadata": {},
   "source": [
    "f) To test out how functions are called in Python, create a function `print_num_args` that prints the number of arguments it has been called with. The count should not include keyword arguments."
   ]
  },
  {
   "cell_type": "code",
   "execution_count": 16,
   "metadata": {
    "scrolled": true
   },
   "outputs": [
    {
     "name": "stdout",
     "output_type": "stream",
     "text": [
      "3\n"
     ]
    }
   ],
   "source": [
    "def print_num_args(*args):\n",
    "  print(len(args))\n",
    "\n",
    "\n",
    "print_num_args(1, 2, 3)"
   ]
  },
  {
   "cell_type": "markdown",
   "metadata": {},
   "source": [
    "g) Write a function `print_kwargs` that prints all the keyword arguments."
   ]
  },
  {
   "cell_type": "code",
   "execution_count": 24,
   "metadata": {
    "scrolled": true
   },
   "outputs": [
    {
     "name": "stdout",
     "output_type": "stream",
     "text": [
      "arg1\n",
      "arg2\n"
     ]
    }
   ],
   "source": [
    "def print_kwargs(**args):\n",
    "  a=args.items()\n",
    "  for i,j in a:\n",
    "    print(i)\n",
    "\n",
    "\n",
    "print_kwargs(arg1=1,arg2=2)"
   ]
  },
  {
   "cell_type": "markdown",
   "metadata": {},
   "source": [
    "h) Below we have a very simple program. Run the first cell. It will succeed. What happens when you run the second cell, and why? In particular, consider the error produced. What does it mean. What value has been returned from the function, and how would you modify the function in order for it to work?"
   ]
  },
  {
   "cell_type": "code",
   "execution_count": 34,
   "metadata": {},
   "outputs": [
    {
     "name": "stdout",
     "output_type": "stream",
     "text": [
      "13225\n"
     ]
    }
   ],
   "source": [
    "def my_polynomial(x):\n",
    "    \"\"\"Return the number x^2 + 30x + 225.\"\"\"\n",
    "    print(x**2 + 30*x + 225)\n",
    "    #return x**2 + 30*x + 225\n",
    "\n",
    "polyval = my_polynomial(100)"
   ]
  },
  {
   "cell_type": "code",
   "execution_count": 36,
   "metadata": {},
   "outputs": [
    {
     "name": "stdout",
     "output_type": "stream",
     "text": [
      "13225\n"
     ]
    },
    {
     "ename": "TypeError",
     "evalue": "unsupported operand type(s) for *: 'int' and 'NoneType'",
     "output_type": "error",
     "traceback": [
      "\u001b[0;31m---------------------------------------------------------------------------\u001b[0m",
      "\u001b[0;31mTypeError\u001b[0m                                 Traceback (most recent call last)",
      "Cell \u001b[0;32mIn[36], line 1\u001b[0m\n\u001b[0;32m----> 1\u001b[0m double_the_polyval \u001b[38;5;241m=\u001b[39m \u001b[38;5;241;43m2\u001b[39;49m\u001b[38;5;241;43m*\u001b[39;49m\u001b[43mmy_polynomial\u001b[49m\u001b[43m(\u001b[49m\u001b[38;5;241;43m100\u001b[39;49m\u001b[43m)\u001b[49m\n",
      "\u001b[0;31mTypeError\u001b[0m: unsupported operand type(s) for *: 'int' and 'NoneType'"
     ]
    }
   ],
   "source": [
    "double_the_polyval = 2*my_polynomial(100)"
   ]
  },
  {
   "cell_type": "code",
   "execution_count": 31,
   "metadata": {},
   "outputs": [],
   "source": [
    "#The error is becuase we used print() instead of return(), the return() will help save the value into polyval so that it can be used later while the print() just outputs the value\n",
    "#without saving it anywhere. \n",
    "def my_polynomial(x):\n",
    "    \"\"\"Return the number x^2 + 30x + 225.\"\"\"\n",
    "    return(x**2 + 30*x + 225)\n",
    "    #return x**2 + 30*x + 225\n",
    "\n",
    "polyval = my_polynomial(100)\n",
    "\n",
    "double_the_polyval = 2*my_polynomial(100)"
   ]
  },
  {
   "cell_type": "markdown",
   "metadata": {},
   "source": [
    "## Script/program construction (a tiny example)"
   ]
  },
  {
   "cell_type": "markdown",
   "metadata": {},
   "source": [
    "Regardless of which programming language we use, we will likely construct programs or scripts that consist of several functions that work in concert. Below we will create a very simple Monte Carlo simulation as a basis for breaking down a larger (though small) problem into sensible, (re)usable discrete pieces. The resulting program will likely utilise control structures that you have read about before."
   ]
  },
  {
   "cell_type": "markdown",
   "metadata": {},
   "source": [
    "**Hint: read all of the subtasks related to this task before coding.**"
   ]
  },
  {
   "cell_type": "markdown",
   "metadata": {},
   "source": [
    "a) The following is a well-known procedure for approximating $\\pi$: pick $n$ uniformly randomly selected coordinates in an $2R\\times 2R$ square. Count the number of the points that fall within the circle of radius $R$ with its center at $(R,R)$. The fraction of these points to the total number of points is used to approximate $\\pi$ (exactly how is for you to figure out). (Note that this is not to be confused with MCMC.)\n",
    "\n",
    "Write a program consisting of **several (aptly selected and named) functions**, that present the user with the following simple text user interface. The <span style=\"background: yellow;\">yellow</span> text is an example of user input (the user is prompted, and enters the value). It then prints the results of the simulations:"
   ]
  },
  {
   "cell_type": "markdown",
   "metadata": {},
   "source": [
    "`pi_simulation()`\n",
    "\n",
    "<p style=\"font-family: console, monospace\">Welcome to the Monty Carlo PI program!</p>\n",
    "\n",
    "<p style=\"font-family: console, monospace\">\n",
    "Please enter a number of points (or the letter \"q\" to quit): <span style=\"background: yellow;\">100</span><br/>\n",
    "Using 100 points we (this time) got the following value for pi: 3.08<br/>\n",
    "This would mean that tau (2xPI) would be: 6.16\n",
    "</p>\n",
    "\n",
    "<p style=\"font-family: console, monospace\">\n",
    "Please enter a number of points (or the letter \"q\" to quit): <span style=\"background: yellow;\">100</span><br/>\n",
    "Using 100 points we (this time) got the following value for pi: 3.12<br/>\n",
    "This would mean that tau (2xPI) would be: 6.24\n",
    "</p>\n",
    "\n",
    "<p style=\"font-family: console, monospace\">\n",
    "Please enter a number of points (or the letter \"q\" to quit): <span style=\"background: yellow;\">q</span>\n",
    "</p>\n",
    "\n",
    "<p style=\"font-family: console, monospace\">\n",
    "Thank you for choosing Monty Carlo.\n",
    "</p>"
   ]
  },
  {
   "cell_type": "markdown",
   "metadata": {},
   "source": [
    "[**Note**: This is a task largely about program structure. Unless there are substantial performance drawbacks, prefer readability over optimisation.]"
   ]
  },
  {
   "cell_type": "markdown",
   "metadata": {},
   "source": [
    "---\n",
    "**REMEMBER: YOU DO NOT WRITE CODE FOR THE INTERPRETER. YOU WRITE IT FOR OTHER HUMAN READERS.**\n",
    "\n",
    "---\n",
    "\n",
    "An important part of programming is to allow a reader who is perhaps unfamiliar with the code to be able to understand it, and convince themselves that it is correct with respect to specification. There should also be as few surprises as possible."
   ]
  },
  {
   "cell_type": "code",
   "execution_count": 22,
   "metadata": {},
   "outputs": [
    {
     "name": "stdout",
     "output_type": "stream",
     "text": [
      "Monte Carlo Approximation of Pi\n",
      "Please enter a number of points (or the letter q to quit):\n",
      "Using 100 points we (this time) got the following value for pi:2.92\n",
      "Please enter a number of points (or the letter q to quit):\n",
      "Using 100 points we (this time) got the following value for pi:3.2\n",
      "Please enter a number of points (or the letter q to quit):\n",
      "Thank you for choosing Monty Carlo.\n"
     ]
    }
   ],
   "source": [
    "import random\n",
    "import math\n",
    "\n",
    "\n",
    "def random_number():\n",
    "  x = random.uniform(0,2) #check if it should be from 0 to 2 \n",
    "  y = random.uniform(0,2) \n",
    "  return x,y\n",
    "\n",
    "def check(x,y,r):\n",
    "  a = math.sqrt((x-r)**2+(y-r)**2)\n",
    "  return r >= a \n",
    "\n",
    "\n",
    "def pi_estimation(n):\n",
    "  r=1\n",
    "  count = 0 \n",
    "  for i in range(n):\n",
    "    x,y = random_number()\n",
    "    check_value = check(x,y,r)\n",
    "\n",
    "    if check_value == True:\n",
    "      count = (count+1)\n",
    "\n",
    "  return (count/n)*4\n",
    "\n",
    "\n",
    "def pi_simulation():\n",
    "  print(\"Monte Carlo Approximation of Pi\")\n",
    "  \n",
    "  value = 0 \n",
    "  while( value != \"q\"):\n",
    "    print(\"Please enter a number of points (or the letter q to quit):\")\n",
    "    value = input(\"Please enter a number of points:\")\n",
    "    if value != \"q\":\n",
    "      value = int(value)\n",
    "      print(\"Using 100 points we (this time) got the following value for pi:{}\".format(pi_estimation(value)))\n",
    "    else:\n",
    "      print(\"Thank you for choosing Monty Carlo.\")\n",
    "      break\n",
    "\n",
    "\n",
    "\n",
    "pi_simulation()"
   ]
  },
  {
   "cell_type": "markdown",
   "metadata": {},
   "source": [
    "[Hint: You might want to consider the function `input`. Try it out and see what type of value it returns.]"
   ]
  },
  {
   "cell_type": "markdown",
   "metadata": {},
   "source": [
    "b) One feature of Python's simplicity is the possibility to (comparatively) quickly produce code to try out our intuitions. Let's say we want to compare how well our approximation performs, as compared to some gold standard for pi (here: the version in the standard library). Run 100 simulations. How large is the maximum relative error (using the definition above) in this particular run of simulations, if each simulation has $n=10^4$ points? Is it larger or smaller than 5%? Write code that returns this maximum relative error."
   ]
  },
  {
   "cell_type": "code",
   "execution_count": 35,
   "metadata": {
    "scrolled": true
   },
   "outputs": [
    {
     "name": "stdout",
     "output_type": "stream",
     "text": [
      "5%\n"
     ]
    }
   ],
   "source": [
    "\n",
    "\n",
    "def error():\n",
    "  error_values=[]\n",
    "  for i in range(100):\n",
    "    error_values.append(abs(pi_estimation(10000)-math.pi))\n",
    "\n",
    "  print(\"{}%\".format(round(max(error_values)*100)))\n",
    "\n",
    "error()\n",
    "\n",
    "\n"
   ]
  },
  {
   "cell_type": "markdown",
   "metadata": {},
   "source": [
    "[Note: This is only to show a quick way of testing out your code in a readable fashion. You might want to try to write it in a pythonic way. But in terms of performance, it is very likely that the true bottleneck will still be the approximation function itself.]"
   ]
  },
  {
   "cell_type": "markdown",
   "metadata": {},
   "source": [
    "## Fault/bugspotting and tests in a very simple setting"
   ]
  },
  {
   "cell_type": "markdown",
   "metadata": {},
   "source": [
    "It is inevitable that we will make mistakes when programming. An important skill is not only to be able to write code in the first place, but also to be able to figure where one would start looking for faults. This also involves being able to make the expectations we have on the program more explicit, and at the very least construct some sets of automatic \"sanity checks\" for the program. The latter will likely not be something done for every piece of code you write, but it is highly useful for code that might be reused or is hard to understand (due either to programming reasons, or because the underlying mathemetics is dense). When rewriting or optimising code, having such tests are also highly useful to provide hints that the changes haven't broken the code."
   ]
  },
  {
   "cell_type": "markdown",
   "metadata": {},
   "source": [
    "**Task**: The following program is supposed to return the sum of the squares of numbers $0,...,n$."
   ]
  },
  {
   "cell_type": "code",
   "execution_count": 78,
   "metadata": {},
   "outputs": [],
   "source": [
    "# Do not modify this code! You'll fix it later.\n",
    "\n",
    "def update_result(result, i):\n",
    "    result = result + i*i\n",
    "    return result\n",
    "\n",
    "def sum_squares(n):\n",
    "    \"\"\"Return the sum of squares 0^2 + 1^2 + ... + (n-1)^2 + n^2.\"\"\"\n",
    "    result = 0\n",
    "    for i in range(n):\n",
    "        result = update_result(n, result)\n",
    "\n",
    "\n"
   ]
  },
  {
   "cell_type": "markdown",
   "metadata": {},
   "source": [
    "a) What mistakes have the programmer made when trying to solve the problem? Name the mistakes in coding or thinking about the issue that you notice (regardless of if they affect the end result). In particular, write down what is wrong (not just \"line X should read ...\"; fixing the code comes later). Feel free to make a copy of the code (pressing `b` in a notebook creates a new cell below) and try it out, add relevant print statements, assertions or anything else that might help. Note down how you spotted the faults."
   ]
  },
  {
   "cell_type": "code",
   "execution_count": 52,
   "metadata": {},
   "outputs": [
    {
     "name": "stdout",
     "output_type": "stream",
     "text": [
      "5\n"
     ]
    }
   ],
   "source": [
    "\"\"\"\n",
    " 1) In the sum_squares function, the update_result funtion inside the for loop has the input paramters incorrectly placed. Found this when trying to print the output of the\n",
    "    result variable. \n",
    "2) Secondly, we should not be passing \"n\" to the above input parameter as that defeats the puropose of the for loop and doesnt compute the sum of squares correctly. \n",
    "\n",
    "\"\"\""
   ]
  },
  {
   "cell_type": "markdown",
   "metadata": {},
   "source": [
    "b) Write a few simple assertions that should pass if the code was correct. Don't forget to include the *why* of the test, preferably in the error message provided in the `AssertionError` if the test fails."
   ]
  },
  {
   "cell_type": "code",
   "execution_count": 79,
   "metadata": {
    "scrolled": false
   },
   "outputs": [],
   "source": [
    "#Testing if n = 0 \n",
    "assert sum_squares(0) != 0, \"Error: The sum of squares for n=3 should be 0.\"\n",
    "\n",
    "#Testing for negative values\n",
    "assert sum_squares(-1) != 1, \"Error: The sum of squares should be 1.\"\n",
    "\n",
    "#Testing for double digits values\n",
    "assert sum_squares(10) != 285, \"Error: The sum of squares for n = 10 should be 285.\"\n",
    "\n",
    "\n",
    "\n",
    "#Some potential edge cases could be if the input value is a chraacter, has decimal values and very large \"n\" value.  \n"
   ]
  },
  {
   "cell_type": "markdown",
   "metadata": {},
   "source": [
    "Hint: might there be any corner/edge cases here?"
   ]
  },
  {
   "cell_type": "markdown",
   "metadata": {},
   "source": [
    "c) Write a correct version of the code, which conforms to the specification."
   ]
  },
  {
   "cell_type": "code",
   "execution_count": 76,
   "metadata": {},
   "outputs": [
    {
     "name": "stdout",
     "output_type": "stream",
     "text": [
      "285\n"
     ]
    }
   ],
   "source": [
    "def update_result(result, i):\n",
    "    result = result + i*i\n",
    "    return result\n",
    "\n",
    "def sum_squares(n):\n",
    "    \"\"\"Return the sum of squares 0^2 + 1^2 + ... + (n-1)^2 + n^2.\"\"\"\n",
    "    result = 0\n",
    "    for i in range(n):\n",
    "        result = update_result(result, i)\n",
    "  \n",
    "    print(result)\n",
    "\n"
   ]
  },
  {
   "cell_type": "markdown",
   "metadata": {},
   "source": [
    "[Note: This is a rather primitive testing strategy, but it is sometimes enough. If we wanted to provide more advanced testing facilities, we might eg use a proper unit test framework, or use tools to do property based testing. This, as well as formal verification, is outside the scope of this course. The interested reader is referred to [pytest](https://docs.pytest.org/en/latest/) or the built-in [unittest](https://docs.python.org/3/library/unittest.html).\n",
    "\n",
    "Those interested in testing might want to consult the web page for the IDA course [TDDD04 Software testing](https://www.ida.liu.se/~TDDD04/) or the somewhat abbreviation-heavy book by [Ammann & Offutt](https://cs.gmu.edu/~offutt/softwaretest/), which apparently also features video lectures.]"
   ]
  },
  {
   "cell_type": "markdown",
   "metadata": {},
   "source": [
    "## Polymorphic behaviour (via duck typing)"
   ]
  },
  {
   "cell_type": "markdown",
   "metadata": {},
   "source": [
    "In Python we often write functions that can handle several different types of data. A common pattern is writing code which is expected to work with several types of collections of data, for instance. This expectation is however in the mind of the programmer (at least without type annotations), and not something that the interpreter will enforce until runtime. This provides a lot of flexibility, but also requires us to understand what our code means for the different kinds of input. Below we try this out, and in particular return to previously known control structures."
   ]
  },
  {
   "cell_type": "markdown",
   "metadata": {},
   "source": [
    "a) Write a function `last_idx` that takes two arguments `seq` and `elem` and returns the index of the last occurrence of the element `elem` in the iterable `seq`. If the sequence doesn't contain the element, return -1. (You may not use built-ins like .find() here.)"
   ]
  },
  {
   "cell_type": "code",
   "execution_count": null,
   "metadata": {},
   "outputs": [],
   "source": []
  },
  {
   "cell_type": "markdown",
   "metadata": {},
   "source": [
    "b) What does your function require of the input? Also include if it would work with a string, a list or a dictionary. In the latter case, what would `elem` be matched against? What will`last_idx(\"cat\", \"a cat catches fish\")` yield?"
   ]
  },
  {
   "cell_type": "code",
   "execution_count": null,
   "metadata": {},
   "outputs": [],
   "source": [
    "\"\"\"\n",
    "    Your answer here.\n",
    "\"\"\""
   ]
  },
  {
   "cell_type": "markdown",
   "metadata": {},
   "source": [
    "c) Add some `assert`-style tests that your code should satisfy. For each test, provide a description of what it tests, and why. That can be made as part of the assert statement itself."
   ]
  },
  {
   "cell_type": "code",
   "execution_count": null,
   "metadata": {},
   "outputs": [],
   "source": []
  },
  {
   "cell_type": "markdown",
   "metadata": {},
   "source": [
    "The fact that a program doesn't crash when given a certain input doesn't necessarily ensure that the results are what  we expect. Thus we need to get a feel for how eg iteration over different types of data behaves, in order to understand how our function behaves."
   ]
  },
  {
   "cell_type": "markdown",
   "metadata": {},
   "source": [
    "d) Can we use `last_idx` with a text file? What would the program try to match `elem` against? What would the return value signify (eg number of words from the start of the file, lines from the start of the file, bytes read...)?"
   ]
  },
  {
   "cell_type": "code",
   "execution_count": null,
   "metadata": {},
   "outputs": [],
   "source": []
  },
  {
   "cell_type": "markdown",
   "metadata": {},
   "source": [
    "[Hint: Try it out! Open a file like in lab 1, using a `with` statement, and pass the file handle to the function. What is the easiest way for you to check what the function is comparing?]"
   ]
  },
  {
   "cell_type": "markdown",
   "metadata": {},
   "source": [
    "### Attribution\n",
    "\n",
    "Lab created by Anders Märak Leffler (2019), using some material by Johan Falkenjack. Feel free to reuse the material, but do so with attribution. License [CC-BY-SA 4.0](https://creativecommons.org/licenses/by-sa/4.0/)."
   ]
  }
 ],
 "metadata": {
  "kernelspec": {
   "display_name": "Python 3 (ipykernel)",
   "language": "python",
   "name": "python3"
  },
  "language_info": {
   "codemirror_mode": {
    "name": "ipython",
    "version": 3
   },
   "file_extension": ".py",
   "mimetype": "text/x-python",
   "name": "python",
   "nbconvert_exporter": "python",
   "pygments_lexer": "ipython3",
   "version": "3.11.4"
  }
 },
 "nbformat": 4,
 "nbformat_minor": 2
}
